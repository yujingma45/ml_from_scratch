{
 "cells": [
  {
   "cell_type": "markdown",
   "metadata": {},
   "source": [
    "# Calculate similarities among users derived from their interactions with films\n",
    "\n",
    "Given a user-movie matrix, finish the function to calculate the similarity between users. \n",
    "```\n",
    "data = [[0,1,0,1,1],\n",
    "        [0,0,0,0,1],\n",
    "        [1,0,0,0,0],\n",
    "        [1,1,0,0,0]]\n",
    "```\n",
    "Each row is a user. Each column is a movie. 1 means the user watched that movie\n",
    "\n",
    "Answer: To resolve this, one can calculate cosine similarity, cosine similarity = A*B/||A|| ||B||"
   ]
  },
  {
   "cell_type": "code",
   "execution_count": 4,
   "metadata": {},
   "outputs": [],
   "source": [
    "import numpy as np\n",
    "def cosine_similarity(matrix):\n",
    "    matrix = np.array(matrix)\n",
    "    # get A * B\n",
    "    dot_product = np.dot(matrix, matrix.T)\n",
    "    # get L2 norm for A \n",
    "    magnitude = np.linalg.norm(matrix, axis = 1)\n",
    "    denominator = np.outer(magnitude, magnitude)\n",
    "    similarity = dot_product / np.clip(denominator, 0.0000001, None)\n",
    "    return similarity"
   ]
  },
  {
   "cell_type": "code",
   "execution_count": 6,
   "metadata": {},
   "outputs": [
    {
     "name": "stdout",
     "output_type": "stream",
     "text": [
      "[[1.         0.57735027 0.         0.40824829]\n",
      " [0.57735027 1.         0.         0.        ]\n",
      " [0.         0.         1.         0.70710678]\n",
      " [0.40824829 0.         0.70710678 1.        ]]\n",
      "[[1.         0.5        0.         0.         0.        ]\n",
      " [0.5        1.         0.         0.70710678 0.5       ]\n",
      " [0.         0.         0.         0.         0.        ]\n",
      " [0.         0.70710678 0.         1.         0.70710678]\n",
      " [0.         0.5        0.         0.70710678 1.        ]]\n"
     ]
    }
   ],
   "source": [
    "if __name__ == \"__main__\":\n",
    "    user_movie = [[0,1,0,1,1],\n",
    "                [0,0,0,0,1],\n",
    "                [1,0,0,0,0],\n",
    "                [1,1,0,0,0]]\n",
    "    user_movie = np.array(user_movie)\n",
    "    user_similarity = cosine_similarity(user_movie)\n",
    "    movie_similarity = cosine_similarity(user_movie.T)\n",
    "    print(user_similarity)\n",
    "    print(movie_similarity)"
   ]
  },
  {
   "cell_type": "code",
   "execution_count": null,
   "metadata": {},
   "outputs": [],
   "source": []
  }
 ],
 "metadata": {
  "kernelspec": {
   "display_name": "base",
   "language": "python",
   "name": "python3"
  },
  "language_info": {
   "codemirror_mode": {
    "name": "ipython",
    "version": 3
   },
   "file_extension": ".py",
   "mimetype": "text/x-python",
   "name": "python",
   "nbconvert_exporter": "python",
   "pygments_lexer": "ipython3",
   "version": "3.11.5"
  }
 },
 "nbformat": 4,
 "nbformat_minor": 2
}
