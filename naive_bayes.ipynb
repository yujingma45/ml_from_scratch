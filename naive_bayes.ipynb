{
 "cells": [
  {
   "cell_type": "markdown",
   "metadata": {},
   "source": [
    "## Naive Bayes \n",
    "Assume that features are mutually independent\n",
    "Select class with highest posterior probability\n",
    "- P(y) prior probability --> Frequency of each class\n",
    "- P(xi|y) class condition probability -> Model with Gaussian (key assumptions)\n",
    "![image](./image/nb_concept.jpeg)\n",
    "\n",
    "### Steps:\n",
    "#### Training: \n",
    "- Calculate mean, variance and prior (frequency) for each class\n",
    "\n",
    "#### Predictions:\n",
    "- Calculate postierior for each class with \n",
    "    \n",
    "    y = argmax_y (logP(x1|y) + logP(x2|y) + ... + logP(xn|y) + logP(y)) and use Gaussian Distribution\n",
    "\n",
    "- Choose class with highest posterior probability \n",
    "\n",
    "#### Test point\n",
    "- Normal distribution pdf\n",
    "- Calculate postierior = sum of log of conditional probablities and log of prior probability"
   ]
  },
  {
   "cell_type": "code",
   "execution_count": 5,
   "metadata": {},
   "outputs": [
    {
     "name": "stdout",
     "output_type": "stream",
     "text": [
      "Naive Bayes classification accuracy 0.965\n"
     ]
    }
   ],
   "source": [
    "import numpy as np \n",
    "\n",
    "class NaiveBayes:\n",
    "\n",
    "    def fit(self, X, y):\n",
    "        n_samples, n_features = X.shape\n",
    "        self._classes = np.unique(y)\n",
    "        n_classes = len(self._classes)\n",
    "\n",
    "        # Initialize\n",
    "        self._mean = np.zeros((n_classes, n_features), dtype = np.float64)\n",
    "        self._var = np.zeros((n_classes, n_features), dtype = np.float64)\n",
    "        self._prior = np.zeros(n_classes, dtype = np.float64)\n",
    "\n",
    "        # calculate the mean, var amd prior for each class \n",
    "        for idx, c in enumerate(self._classes):\n",
    "            X_c = X[y==c]\n",
    "            self._mean[idx, :] = np.mean(X_c, axis = 0)\n",
    "            self._var[idx, :] = np.var(X_c, axis = 0)\n",
    "            self._prior[idx] = X_c.shape[0]/ float(n_samples)\n",
    "\n",
    "    def predict(self, X):\n",
    "        y_pred = [self._predict(x) for x in X] # x represents one sample\n",
    "        return np.array(y_pred)\n",
    "\n",
    "    \n",
    "    def _predict(self, x):\n",
    "        posteriors = []\n",
    "\n",
    "        # calculate posterior probability for each class\n",
    "        for idx, c in enumerate(self._classes):\n",
    "            prior = np.log(self._prior[idx])\n",
    "            posterior = np.sum(np.log(self._pdf(idx, x)))\n",
    "            posterior = posterior + prior\n",
    "            posteriors.append(posterior)\n",
    "        \n",
    "        # return the class with the largest postierior \n",
    "        return self._classes[np.argmax(posteriors)]\n",
    "\n",
    "    def _pdf(self, class_idx, x):\n",
    "        mean = self._mean[class_idx]\n",
    "        var = self._var[class_idx]\n",
    "        numerator = np.exp(-((x - mean)**2 )/ (2*var))\n",
    "        denomoinator = np.sqrt((2* np.pi * var))\n",
    "        return numerator/ denomoinator\n",
    "\n",
    "\n",
    "# Testing\n",
    "if __name__ == \"__main__\":\n",
    "    # Imports\n",
    "    from sklearn.model_selection import train_test_split\n",
    "    from sklearn import datasets\n",
    "\n",
    "    def accuracy(y_true, y_pred):\n",
    "        accuracy = np.sum(y_true == y_pred) / len(y_true)\n",
    "        return accuracy\n",
    "\n",
    "    X, y = datasets.make_classification(\n",
    "        n_samples=1000, n_features=10, n_classes=2, random_state=123\n",
    "    )\n",
    "    X_train, X_test, y_train, y_test = train_test_split(\n",
    "        X, y, test_size=0.2, random_state=123\n",
    "    )\n",
    "\n",
    "    nb = NaiveBayes()\n",
    "    nb.fit(X_train, y_train)\n",
    "    predictions = nb.predict(X_test)\n",
    "\n",
    "    print(\"Naive Bayes classification accuracy\", accuracy(y_test, predictions))\n"
   ]
  }
 ],
 "metadata": {
  "kernelspec": {
   "display_name": "base",
   "language": "python",
   "name": "python3"
  },
  "language_info": {
   "codemirror_mode": {
    "name": "ipython",
    "version": 3
   },
   "file_extension": ".py",
   "mimetype": "text/x-python",
   "name": "python",
   "nbconvert_exporter": "python",
   "pygments_lexer": "ipython3",
   "version": "3.11.5"
  }
 },
 "nbformat": 4,
 "nbformat_minor": 2
}
